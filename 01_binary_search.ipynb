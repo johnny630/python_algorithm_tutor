{
 "cells": [
  {
   "cell_type": "markdown",
   "id": "758f433c",
   "metadata": {},
   "source": [
    "# Binary search\n",
    "O(log n)"
   ]
  },
  {
   "cell_type": "code",
   "execution_count": 24,
   "id": "8a7959b3",
   "metadata": {},
   "outputs": [],
   "source": [
    "def binary_search(number_list, val):\n",
    "    left = 0\n",
    "    right = len(number_list) - 1\n",
    "\n",
    "    while(left <= right):\n",
    "        index = (left + right) // 2\n",
    "        if number_list[index] == val:\n",
    "            return index\n",
    "        elif val < number_list[index]:\n",
    "            right = index - 1\n",
    "        else:\n",
    "            left = index + 1\n",
    "            \n",
    "    return -1\n",
    "        "
   ]
  },
  {
   "cell_type": "code",
   "execution_count": 28,
   "id": "6a43f68e",
   "metadata": {},
   "outputs": [
    {
     "data": {
      "text/plain": [
       "2"
      ]
     },
     "execution_count": 28,
     "metadata": {},
     "output_type": "execute_result"
    }
   ],
   "source": [
    "binary_search(list(range(10)), 2)"
   ]
  },
  {
   "cell_type": "code",
   "execution_count": 3,
   "id": "2c0bd275",
   "metadata": {},
   "outputs": [
    {
     "data": {
      "text/plain": [
       "2"
      ]
     },
     "execution_count": 3,
     "metadata": {},
     "output_type": "execute_result"
    }
   ],
   "source": [
    "def binary_search_v2(numbers, val):\n",
    "    left = 0\n",
    "    right = len(numbers) - 1\n",
    "    \n",
    "    while left <= right:\n",
    "        mid = (left + right) // 2\n",
    "        compare_number = numbers[mid]\n",
    "        \n",
    "        if compare_number == val:\n",
    "            return mid\n",
    "        elif compare_number > val:\n",
    "            right = mid - 1\n",
    "        else:\n",
    "            left = mid + 1\n",
    "            \n",
    "    return None\n",
    "\n",
    "binary_search_v2(list(range(10)), 2)"
   ]
  },
  {
   "cell_type": "code",
   "execution_count": null,
   "id": "ac06264c",
   "metadata": {},
   "outputs": [],
   "source": []
  }
 ],
 "metadata": {
  "kernelspec": {
   "display_name": "Python 3",
   "language": "python",
   "name": "python3"
  },
  "language_info": {
   "codemirror_mode": {
    "name": "ipython",
    "version": 3
   },
   "file_extension": ".py",
   "mimetype": "text/x-python",
   "name": "python",
   "nbconvert_exporter": "python",
   "pygments_lexer": "ipython3",
   "version": "3.8.8"
  }
 },
 "nbformat": 4,
 "nbformat_minor": 5
}
