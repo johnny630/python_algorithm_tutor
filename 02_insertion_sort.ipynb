{
 "cells": [
  {
   "cell_type": "markdown",
   "id": "5c7c8b74",
   "metadata": {},
   "source": [
    "# Insertion Sort\n",
    "\n",
    "https://visualgo.net/zh/sorting"
   ]
  },
  {
   "cell_type": "markdown",
   "id": "c12c3cb7",
   "metadata": {},
   "source": [
    "## pseudocode"
   ]
  },
  {
   "cell_type": "code",
   "execution_count": null,
   "id": "32497968",
   "metadata": {},
   "outputs": [],
   "source": [
    "def insertion_sort(values):\n",
    "    # 設 已排序的列表 = 元素的第一個 values[0]\n",
    "    \n",
    "    for index, 比較值 in 從第二個元素開始歷遍:\n",
    "        for index2, 已排序值 in 從 已排序的列表(index + 1) 從後往前歷遍:\n",
    "            if 比較值 < 已排序值:\n",
    "                已排序值index往後移1\n",
    "            else:\n",
    "                比較值移至目前index\n",
    "                break"
   ]
  },
  {
   "cell_type": "code",
   "execution_count": null,
   "id": "61e0533e",
   "metadata": {},
   "outputs": [],
   "source": [
    "def insertion_sort(values):\n",
    "#     for index, val in enumerate(values):\n",
    "    for index in range(1, len(values)):\n",
    "#         if index == 0: continue\n",
    "        print(values)\n",
    "        val = values[index]\n",
    "\n",
    "        print(f'元素歷遍: index: {index}, valu: {val}')\n",
    "        \n",
    "        print(values[0: index][::-1])\n",
    "        \n",
    "        insert_index = index - 1\n",
    "        while insert_index >= 0 and val < values[insert_index] :\n",
    "            values[insert_index + 1] = values[insert_index]\n",
    "            insert_index -= 1\n",
    "            \n",
    "        values[insert_index + 1] = val\n",
    "#         for index2, val2 in enumerate(values[0: index][::-1]):\n",
    "#             print(f'已排序元素歷遍: index: {index2}, valu: {val2}')\n",
    "#             if val2 < val:\n",
    "#                 values[index2] = val2\n",
    "#             else:\n",
    "#                 values[index2] = val\n",
    "#                 break\n",
    "        \n",
    "        print()\n",
    "        \n",
    "        \n",
    "array = [31, 1, 24, 59, 10, 4]\n",
    "insertion_sort(array)\n",
    "print(array)"
   ]
  },
  {
   "cell_type": "code",
   "execution_count": null,
   "id": "d5749db7",
   "metadata": {},
   "outputs": [],
   "source": [
    "[31, 1, 24, 59, 10, 4][:2][::-1]"
   ]
  },
  {
   "cell_type": "code",
   "execution_count": null,
   "id": "509186f5",
   "metadata": {},
   "outputs": [],
   "source": [
    "a = 6\n",
    "a -= 1\n",
    "a"
   ]
  },
  {
   "cell_type": "code",
   "execution_count": null,
   "id": "b9a27213",
   "metadata": {},
   "outputs": [],
   "source": [
    "for index in range(1,10):\n",
    "    print(index)"
   ]
  },
  {
   "cell_type": "code",
   "execution_count": null,
   "id": "dfe8200b",
   "metadata": {},
   "outputs": [],
   "source": []
  }
 ],
 "metadata": {
  "kernelspec": {
   "display_name": "Python 3",
   "language": "python",
   "name": "python3"
  },
  "language_info": {
   "codemirror_mode": {
    "name": "ipython",
    "version": 3
   },
   "file_extension": ".py",
   "mimetype": "text/x-python",
   "name": "python",
   "nbconvert_exporter": "python",
   "pygments_lexer": "ipython3",
   "version": "3.8.8"
  }
 },
 "nbformat": 4,
 "nbformat_minor": 5
}
