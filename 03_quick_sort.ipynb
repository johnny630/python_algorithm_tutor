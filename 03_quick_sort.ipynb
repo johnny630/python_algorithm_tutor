{
 "cells": [
  {
   "cell_type": "markdown",
   "id": "c87d7bb4",
   "metadata": {},
   "source": [
    "# Quick Sort"
   ]
  },
  {
   "cell_type": "code",
   "execution_count": 16,
   "id": "92ff711a",
   "metadata": {},
   "outputs": [
    {
     "name": "stdout",
     "output_type": "stream",
     "text": [
      "--------\n",
      "4 [5, 9, 20, 38, 12, 15] [2, -5]\n",
      "--------\n",
      "2 [] [-5]\n",
      "return [-5]\n",
      "return []\n",
      "--------\n",
      "5 [9, 20, 38, 12, 15] []\n",
      "return []\n",
      "--------\n",
      "9 [20, 38, 12, 15] []\n",
      "return []\n",
      "--------\n",
      "20 [38] [12, 15]\n",
      "--------\n",
      "12 [15] []\n",
      "return []\n",
      "return [15]\n",
      "return [38]\n"
     ]
    },
    {
     "data": {
      "text/plain": [
       "[-5, 2, 4, 5, 9, 12, 15, 20, 38]"
      ]
     },
     "execution_count": 16,
     "metadata": {},
     "output_type": "execute_result"
    }
   ],
   "source": [
    "def quick_sort(arr):\n",
    "    if len(arr) <= 1:\n",
    "        print(f'return {arr}')\n",
    "        return arr\n",
    "    else:\n",
    "        pivot = arr[0]\n",
    "        great_arr = [i for i in arr if i > pivot]\n",
    "        less_arr = [i for i in arr if i < pivot]\n",
    "        \n",
    "        print('--------')\n",
    "        print(pivot, great_arr, less_arr)\n",
    "        \n",
    "        return [*quick_sort(less_arr), pivot, *quick_sort(great_arr)]\n",
    "        \n",
    "        \n",
    "quick_sort([4, 5, 2, 9, 20, -5, 38, 12, 15])"
   ]
  },
  {
   "cell_type": "code",
   "execution_count": 3,
   "id": "da299454",
   "metadata": {},
   "outputs": [
    {
     "data": {
      "text/plain": [
       "[1, 2, 3, 4, 5]"
      ]
     },
     "execution_count": 3,
     "metadata": {},
     "output_type": "execute_result"
    }
   ],
   "source": [
    "a = [1, 2]\n",
    "b = [3]\n",
    "c = [4, 5]\n",
    "\n",
    "[*a, *b, *c]"
   ]
  },
  {
   "cell_type": "code",
   "execution_count": null,
   "id": "676191dc",
   "metadata": {},
   "outputs": [],
   "source": []
  }
 ],
 "metadata": {
  "kernelspec": {
   "display_name": "Python 3",
   "language": "python",
   "name": "python3"
  },
  "language_info": {
   "codemirror_mode": {
    "name": "ipython",
    "version": 3
   },
   "file_extension": ".py",
   "mimetype": "text/x-python",
   "name": "python",
   "nbconvert_exporter": "python",
   "pygments_lexer": "ipython3",
   "version": "3.8.8"
  }
 },
 "nbformat": 4,
 "nbformat_minor": 5
}
